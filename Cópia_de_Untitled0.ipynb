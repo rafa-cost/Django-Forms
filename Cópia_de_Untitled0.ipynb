{
  "nbformat": 4,
  "nbformat_minor": 0,
  "metadata": {
    "colab": {
      "provenance": [],
      "authorship_tag": "ABX9TyNPFyGIpmCcYRfxoXTWOSZg",
      "include_colab_link": true
    },
    "kernelspec": {
      "name": "python3",
      "display_name": "Python 3"
    },
    "language_info": {
      "name": "python"
    }
  },
  "cells": [
    {
      "cell_type": "markdown",
      "metadata": {
        "id": "view-in-github",
        "colab_type": "text"
      },
      "source": [
        "<a href=\"https://colab.research.google.com/github/rafa-cost/Django-Forms/blob/main/C%C3%B3pia_de_Untitled0.ipynb\" target=\"_parent\"><img src=\"https://colab.research.google.com/assets/colab-badge.svg\" alt=\"Open In Colab\"/></a>"
      ]
    },
    {
      "cell_type": "code",
      "execution_count": null,
      "metadata": {
        "id": "hIX8oLlFjBs3"
      },
      "outputs": [],
      "source": [
        "\n"
      ]
    },
    {
      "cell_type": "markdown",
      "source": [
        "## Desvios Lógicos\n",
        "\n"
      ],
      "metadata": {
        "id": "8tO-ipf9MkTR"
      }
    },
    {
      "cell_type": "code",
      "source": [
        "idade = 18\n",
        "\n",
        "if idade < 18:\n",
        "  print(f'menor de idade: {idade} anos')\n",
        "elif idade >= 65:\n",
        "  print(f'pessoa idosa: {idade} anos')\n",
        " \n",
        "else:\n",
        "  print(f'maior de idade: {idade} anos')"
      ],
      "metadata": {
        "colab": {
          "base_uri": "https://localhost:8080/"
        },
        "id": "hOy-JAepMxMi",
        "outputId": "db1aba59-50a6-4148-d3f5-23422a24a6fa"
      },
      "execution_count": null,
      "outputs": [
        {
          "output_type": "stream",
          "name": "stdout",
          "text": [
            "maior de idade: 18 anos\n"
          ]
        }
      ]
    },
    {
      "cell_type": "markdown",
      "source": [
        "##Funções"
      ],
      "metadata": {
        "id": "qKELiBzqRImS"
      }
    },
    {
      "cell_type": "code",
      "source": [
        "def classificar(idade, nome):\n",
        "  if idade < 18:\n",
        "    return f'{nome} menor de idade: {idade} anos'\n",
        "  elif idade >= 65:\n",
        "    return f'{nome} pessoa idosa: {idade} anos'\n",
        "  else:\n",
        "    return f'{nome} maior de idade: {idade} anos'"
      ],
      "metadata": {
        "id": "gfvlorKoRRUi"
      },
      "execution_count": null,
      "outputs": []
    },
    {
      "cell_type": "code",
      "source": [
        "classificar(30, 'Rafael')"
      ],
      "metadata": {
        "colab": {
          "base_uri": "https://localhost:8080/",
          "height": 35
        },
        "id": "Ls_UWJUkTL5W",
        "outputId": "b351cb30-0c6d-48dc-d86c-d96a013b90ff"
      },
      "execution_count": null,
      "outputs": [
        {
          "output_type": "execute_result",
          "data": {
            "text/plain": [
              "'Rafael maior de idade: 30 anos'"
            ],
            "application/vnd.google.colaboratory.intrinsic+json": {
              "type": "string"
            }
          },
          "metadata": {},
          "execution_count": 15
        }
      ]
    },
    {
      "cell_type": "code",
      "source": [
        "renzo= 'Renzo Nuccitelli'\n",
        "renzo[10], renzo[:9]\n"
      ],
      "metadata": {
        "colab": {
          "base_uri": "https://localhost:8080/"
        },
        "id": "HxvYVctPYnV_",
        "outputId": "e5b20523-0139-468c-b0a0-75868eda68b6"
      },
      "execution_count": null,
      "outputs": [
        {
          "output_type": "execute_result",
          "data": {
            "text/plain": [
              "('i', 'Renzo Nuc')"
            ]
          },
          "metadata": {},
          "execution_count": 18
        }
      ]
    },
    {
      "cell_type": "markdown",
      "source": [
        "##Laços de Repetição"
      ],
      "metadata": {
        "id": "9T34CMsX8uXd"
      }
    },
    {
      "cell_type": "code",
      "source": [
        "def classificar(idade, nome):\n",
        "  if idade < 18:\n",
        "    return f'{nome} menor de idade: {idade} anos'\n",
        "  elif idade >= 65:\n",
        "    return f'{nome} pessoa idosa: {idade} anos'\n",
        "  else:\n",
        "    return f'{nome} maior de idade: {idade} anos'\n",
        "idades = [10, 50, 80]\n",
        "\n"
      ],
      "metadata": {
        "colab": {
          "base_uri": "https://localhost:8080/",
          "height": 35
        },
        "id": "Hh1rBkq_801C",
        "outputId": "bbb19804-ef4a-4b3f-ec57-2418c2819a41"
      },
      "execution_count": null,
      "outputs": [
        {
          "output_type": "execute_result",
          "data": {
            "text/plain": [
              "'Renzo menor de idade: 17 anos'"
            ],
            "application/vnd.google.colaboratory.intrinsic+json": {
              "type": "string"
            }
          },
          "metadata": {},
          "execution_count": 8
        }
      ]
    },
    {
      "cell_type": "code",
      "source": [
        "for idade in idades:\n",
        "  print(classificar(idade, 'Pessoa'))"
      ],
      "metadata": {
        "colab": {
          "base_uri": "https://localhost:8080/"
        },
        "id": "hxxayQ8195hp",
        "outputId": "d013ded3-1cbe-4da5-d318-195d2ca70f00"
      },
      "execution_count": null,
      "outputs": [
        {
          "output_type": "stream",
          "name": "stdout",
          "text": [
            "Pessoa menor de idade: 17 anos\n",
            "Pessoa maior de idade: 38 anos\n",
            "Pessoa pessoa idosa: 70 anos\n"
          ]
        }
      ]
    },
    {
      "cell_type": "markdown",
      "source": [
        "##Dicionário"
      ],
      "metadata": {
        "id": "tspyk8R5DydU"
      }
    },
    {
      "cell_type": "code",
      "source": [
        "linguas= {'pt' : 'Porutgues', 'en': 'Ingles'}\n",
        "linguas"
      ],
      "metadata": {
        "colab": {
          "base_uri": "https://localhost:8080/"
        },
        "id": "y_GaT-FmD4pR",
        "outputId": "04823a48-4486-4184-caf4-392619067d85"
      },
      "execution_count": null,
      "outputs": [
        {
          "output_type": "execute_result",
          "data": {
            "text/plain": [
              "{'pt': 'Porutgues', 'en': 'Ingles'}"
            ]
          },
          "metadata": {},
          "execution_count": 21
        }
      ]
    },
    {
      "cell_type": "code",
      "source": [
        "linguas['es']= 'Espanhol'\n",
        "linguas\n"
      ],
      "metadata": {
        "colab": {
          "base_uri": "https://localhost:8080/"
        },
        "id": "ZVUzS4-rFHcj",
        "outputId": "58c6b641-8104-4f37-e5f1-4138244b544e"
      },
      "execution_count": null,
      "outputs": [
        {
          "output_type": "execute_result",
          "data": {
            "text/plain": [
              "{'pt': 'Porutgues', 'en': 'Ingles', 'es': 'Espanhol'}"
            ]
          },
          "metadata": {},
          "execution_count": 22
        }
      ]
    },
    {
      "cell_type": "code",
      "source": [
        "for chave in linguas.keys():\n",
        "  print(chave)"
      ],
      "metadata": {
        "colab": {
          "base_uri": "https://localhost:8080/"
        },
        "id": "UEM_Piq0F1Bl",
        "outputId": "48da77e0-b4a5-4639-8d8d-6ccb4956ae9b"
      },
      "execution_count": null,
      "outputs": [
        {
          "output_type": "stream",
          "name": "stdout",
          "text": [
            "pt\n",
            "en\n",
            "es\n"
          ]
        }
      ]
    },
    {
      "cell_type": "code",
      "source": [
        " for valor in linguas.values():\n",
        "   print(valor)"
      ],
      "metadata": {
        "colab": {
          "base_uri": "https://localhost:8080/"
        },
        "id": "bO4aVLyJF5lG",
        "outputId": "6832ea57-e345-4b7d-e3ae-21a8fc4cb2e3"
      },
      "execution_count": null,
      "outputs": [
        {
          "output_type": "stream",
          "name": "stdout",
          "text": [
            "Porutgues\n",
            "Ingles\n",
            "Espanhol\n"
          ]
        }
      ]
    },
    {
      "cell_type": "code",
      "source": [
        "for chave, valor in linguas.items():\n",
        "  print(chave, valor)"
      ],
      "metadata": {
        "colab": {
          "base_uri": "https://localhost:8080/"
        },
        "id": "HqeDeIGAGd8S",
        "outputId": "b894b38c-4a4b-4a4f-ba9a-964eea3e4773"
      },
      "execution_count": null,
      "outputs": [
        {
          "output_type": "stream",
          "name": "stdout",
          "text": [
            "pt Porutgues\n",
            "en Ingles\n",
            "es Espanhol\n"
          ]
        }
      ]
    }
  ]
}